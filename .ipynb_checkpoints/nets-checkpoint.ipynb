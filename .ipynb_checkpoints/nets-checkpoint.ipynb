{
 "cells": [
  {
   "cell_type": "code",
   "execution_count": 4,
   "metadata": {},
   "outputs": [],
   "source": [
    "import numpy as np\n",
    "import pandas as pd\n",
    "import networkx as nx\n",
    "import matplotlib.pyplot as plt\n",
    "import time\n",
    "import os\n",
    "from IPython.display import clear_output"
   ]
  },
  {
   "cell_type": "markdown",
   "metadata": {},
   "source": [
    "## Agenda\n",
    "\n",
    "- look up how to simulate cellular automata \n",
    "- how to incorporate temporal delays\n",
    "- how to apply that on graphs\n",
    "\n",
    "*Notes*\n",
    "\n",
    "- Graphs are advantageous over 2d because they allow for any dimension (cells don't have to be adjacent) even though you can still represent in 2d"
   ]
  },
  {
   "cell_type": "code",
   "execution_count": null,
   "metadata": {},
   "outputs": [],
   "source": [
    "class Neuron(object):\n",
    "    def __init__(self, _input, charge):\n",
    "        self.charge = charge #charge as in excitatory (positive) or inhibitory (negative)\n",
    "    def refractory_period(self):\n",
    "        \n",
    "        \n",
    "class Network(Neuron):\n",
    "    def __init__(self, Neurons):\n",
    "        Neuron.__init__(self, _input)\n",
    "        "
   ]
  },
  {
   "cell_type": "markdown",
   "metadata": {},
   "source": [
    "### Noodling with cellular automata"
   ]
  },
  {
   "cell_type": "markdown",
   "metadata": {},
   "source": [
    "### 2D case:"
   ]
  },
  {
   "cell_type": "code",
   "execution_count": 205,
   "metadata": {},
   "outputs": [],
   "source": [
    "def update2d(neurons):\n",
    "    for i in range(len(neurons)): #where d1 is 1d array of neurons in neurons[:]\n",
    "        for j in range(len(neurons[i])):\n",
    "            if neurons[i][j] == 1:\n",
    "                try:\n",
    "                    neurons[i][j] = 0\n",
    "                    neurons[i+1][j+1] = 1\n",
    "                    #neurons[i-1][j-1] = 1\n",
    "                    return neurons\n",
    "                except IndexError:\n",
    "                    neurons[i][j] = 0\n",
    "                    return neurons\n",
    "    \n",
    "def pulse2d(neurons):\n",
    "    \n",
    "    plt.figure()\n",
    "    while 1 in np.matrix(neurons):\n",
    "        #print(np.matrix(neurons), end=\"\\r\")\n",
    "        \n",
    "        plt.figure()\n",
    "        plt.imshow(neurons)\n",
    "        plt.show()\n",
    "        update2d(neurons)\n",
    "        time.sleep(.3)\n",
    "        clear_output(wait=True)\n",
    "#         if input(\"Enter 'q' to quit\\n\") == 'q':\n",
    "#             break\n",
    "    #print(np.matrix(neurons), end=\"\\r\")\n",
    "    plt.imshow(neurons)\n",
    "    plt.show()\n",
    "    \n",
    "def init_spike(width = 10, loc_on = None, pcnt_on = None, mode = 'random'):\n",
    "    \"\"\"\n",
    "    Returns initial conditions for neuron raster\n",
    "    width is an int n for dimensions of n x n raster \n",
    "    If mode == 'random', activates pcnt_on% of neurons in raster randomly\n",
    "    If mode == 'center', initiates center neurons\n",
    "    \n",
    "    Otherwise only activates neurons at coordinates given in loc_on, of format [[x1,y2],[y1,y2],...]\n",
    "    \"\"\"\n",
    "    \n",
    "    raster = [list(np.zeros(width, dtype= int)) for i in np.arange(width)]\n",
    "    num_rand = width*width*pcnt_on\n",
    "    \n",
    "    #helper function to generate random coordinates\n",
    "    def gen_rand_coords():   \n",
    "        for i in np.arange(num_rand):\n",
    "            rand_coord = list(np.random.randint(0,width,2))\n",
    "            if len(rand_loc) == num_rand:\n",
    "                break\n",
    "            if rand_coord not in rand_loc:\n",
    "                rand_loc.append(rand_coord)\n",
    "            else:\n",
    "                gen_rand_coords()   \n",
    "                \n",
    "    if mode == None:\n",
    "        for i, n in enumerate(loc_on):\n",
    "            for j in n:\n",
    "                raster[i][j] = 1\n",
    "    \n",
    "    if mode == 'random':\n",
    "        rand_loc = []\n",
    "        gen_rand_coords()\n",
    "        \n",
    "        for coord in rand_loc:\n",
    "            x = coord[0]; y = coord[1];\n",
    "            raster[x][y] = 1\n",
    "        \n",
    "    return raster"
   ]
  },
  {
   "cell_type": "code",
   "execution_count": 190,
   "metadata": {},
   "outputs": [],
   "source": [
    "neurons = init_spike(pcnt_on=.44)"
   ]
  },
  {
   "cell_type": "code",
   "execution_count": null,
   "metadata": {},
   "outputs": [
    {
     "data": {
      "image/png": "[encoded data removed]",
      "text/plain": [
       "<Figure size 432x288 with 1 Axes>"
      ]
     },
     "metadata": {
      "needs_background": "light"
     },
     "output_type": "display_data"
    }
   ],
   "source": [
    "pulse2d(init_spike(pcnt_on=.44))"
   ]
  },
  {
   "cell_type": "code",
   "execution_count": null,
   "metadata": {},
   "outputs": [],
   "source": []
  }
 ],
 "metadata": {
  "kernelspec": {
   "display_name": "Python 3",
   "language": "python",
   "name": "python3"
  },
  "language_info": {
   "codemirror_mode": {
    "name": "ipython",
    "version": 3
   },
   "file_extension": ".py",
   "mimetype": "text/x-python",
   "name": "python",
   "nbconvert_exporter": "python",
   "pygments_lexer": "ipython3",
   "version": "3.7.4"
  }
 },
 "nbformat": 4,
 "nbformat_minor": 2
}
