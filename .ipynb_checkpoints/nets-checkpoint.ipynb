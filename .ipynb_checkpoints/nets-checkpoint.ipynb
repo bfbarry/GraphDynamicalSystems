{
 "cells": [
  {
   "cell_type": "code",
   "execution_count": 1,
   "metadata": {},
   "outputs": [],
   "source": [
    "import numpy as np\n",
    "import pandas as pd\n",
    "import networkx as nx\n",
    "import matplotlib.pyplot as plt\n",
    "import time\n",
    "import os\n",
    "from IPython.display import clear_output"
   ]
  },
  {
   "cell_type": "markdown",
   "metadata": {},
   "source": [
    "## Agenda\n",
    "\n",
    "- look up how to simulate cellular automata \n",
    "- how to incorporate temporal delays\n",
    "- how to apply that on graphs"
   ]
  },
  {
   "cell_type": "code",
   "execution_count": null,
   "metadata": {},
   "outputs": [],
   "source": [
    "class Neuron(object):\n",
    "    def __init__(self, _input):\n",
    "        \n",
    "    def refractory_period(self):\n",
    "        \n",
    "        \n",
    "class Network(Neuron):\n",
    "    def __init__(self, Neurons):\n",
    "        Neuron.__init__(self, _input)\n",
    "        "
   ]
  },
  {
   "cell_type": "markdown",
   "metadata": {},
   "source": [
    "### Noodling with cellular automata\n",
    "\n",
    "1d case:"
   ]
  },
  {
   "cell_type": "code",
   "execution_count": 341,
   "metadata": {},
   "outputs": [],
   "source": [
    "d1_n = np.zeros(5)\n",
    "\n",
    "def update(neurons):\n",
    "    for i, n in enumerate(neurons):\n",
    "        if neurons[i] == 1:\n",
    "            try:\n",
    "                neurons[i] = 0\n",
    "                neurons[i+1] = 1\n",
    "                break\n",
    "            except IndexError:\n",
    "                neurons[i] = 0\n",
    "    return neurons\n",
    "    \n",
    "    \n",
    "def pulse(neurons):\n",
    "    neurons[0] = 1\n",
    "    for i in neurons:\n",
    "        print(np.array(neurons), end=\"\\r\")\n",
    "        update(neurons)\n",
    "        time.sleep(0.5)\n",
    "    print(neurons, end=\"\\r\")"
   ]
  },
  {
   "cell_type": "code",
   "execution_count": 342,
   "metadata": {},
   "outputs": [
    {
     "name": "stdout",
     "output_type": "stream",
     "text": [
      "[0 0 0 0 0]\r"
     ]
    }
   ],
   "source": [
    "pulse(np.zeros(5, dtype = int))"
   ]
  },
  {
   "cell_type": "markdown",
   "metadata": {},
   "source": [
    "### 2D case:"
   ]
  },
  {
   "cell_type": "code",
   "execution_count": 387,
   "metadata": {},
   "outputs": [],
   "source": [
    "def update2d(neurons):\n",
    "    for i in range(len(neurons)): #where d1 is 1d array of neurons in neurons[:]\n",
    "        for j in range(len(neurons[i])):\n",
    "            if neurons[i][j] == 1:\n",
    "                try:\n",
    "                    neurons[i][j] = 0\n",
    "                    neurons[i+1][j+1] = 1\n",
    "                    #neurons[i-1][j-1] = 1\n",
    "                    return neurons\n",
    "                except IndexError:\n",
    "                    neurons[i][j] = 0\n",
    "                    return neurons\n",
    "    \n",
    "def pulse2d(neurons):\n",
    "    #neurons[0] = 1\n",
    "    while 1 in np.matrix(neurons):\n",
    "        print(np.matrix(neurons), end=\"\\r\")\n",
    "        update2d(neurons)\n",
    "        time.sleep(.3)\n",
    "        clear_output(wait=True)\n",
    "    print(np.matrix(neurons), end=\"\\r\")"
   ]
  },
  {
   "cell_type": "code",
   "execution_count": 388,
   "metadata": {},
   "outputs": [
    {
     "data": {
      "text/plain": [
       "[[0, 0, 0, 0, 0, 0, 0, 0, 0, 0],\n",
       " [0, 0, 0, 0, 0, 0, 0, 0, 0, 0],\n",
       " [0, 0, 0, 0, 0, 0, 0, 0, 0, 0],\n",
       " [0, 0, 0, 0, 0, 0, 0, 0, 0, 0],\n",
       " [0, 0, 0, 0, 0, 0, 0, 0, 0, 0],\n",
       " [0, 0, 0, 0, 0, 1, 0, 0, 0, 0],\n",
       " [0, 0, 0, 0, 0, 0, 0, 0, 0, 0],\n",
       " [0, 0, 0, 0, 0, 0, 0, 0, 0, 0],\n",
       " [0, 0, 0, 0, 0, 0, 0, 0, 0, 0],\n",
       " [0, 0, 0, 0, 0, 0, 0, 0, 0, 0]]"
      ]
     },
     "execution_count": 388,
     "metadata": {},
     "output_type": "execute_result"
    }
   ],
   "source": [
    "d2 = [list(np.zeros(10, dtype= int)) for i in np.arange(10)]\n",
    "d2[5][5] = 1\n",
    "d2"
   ]
  },
  {
   "cell_type": "code",
   "execution_count": 389,
   "metadata": {},
   "outputs": [
    {
     "name": "stdout",
     "output_type": "stream",
     "text": [
      "[[0 0 0 0 0 0 0 0 0 0]\n",
      " [0 0 0 0 0 0 0 0 0 0]\n",
      " [0 0 0 0 0 0 0 0 0 0]\n",
      " [0 0 0 0 0 0 0 0 0 0]\n",
      " [0 0 0 0 0 0 0 0 0 0]\n",
      " [0 0 0 0 0 0 0 0 0 0]\n",
      " [0 0 0 0 0 0 0 0 0 0]\n",
      " [0 0 0 0 0 0 0 0 0 0]\n",
      " [0 0 0 0 0 0 0 0 0 0]\n",
      " [0 0 0 0 0 0 0 0 0 0]]\r"
     ]
    }
   ],
   "source": [
    "pulse2d(d2)"
   ]
  }
 ],
 "metadata": {
  "kernelspec": {
   "display_name": "Python 3",
   "language": "python",
   "name": "python3"
  },
  "language_info": {
   "codemirror_mode": {
    "name": "ipython",
    "version": 3
   },
   "file_extension": ".py",
   "mimetype": "text/x-python",
   "name": "python",
   "nbconvert_exporter": "python",
   "pygments_lexer": "ipython3",
   "version": "3.7.4"
  }
 },
 "nbformat": 4,
 "nbformat_minor": 2
}
